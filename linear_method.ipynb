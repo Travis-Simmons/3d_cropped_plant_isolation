{
 "metadata": {
  "language_info": {
   "codemirror_mode": {
    "name": "ipython",
    "version": 3
   },
   "file_extension": ".py",
   "mimetype": "text/x-python",
   "name": "python",
   "nbconvert_exporter": "python",
   "pygments_lexer": "ipython3",
   "version": "3.8.5-final"
  },
  "orig_nbformat": 2,
  "kernelspec": {
   "name": "python3",
   "display_name": "Python 3.8.5 64-bit ('general': conda)",
   "metadata": {
    "interpreter": {
     "hash": "14c2496068e7cb5b595b12e50cb9fa5ca3f0f34bfc138a98d832172e579d4aba"
    }
   }
  }
 },
 "nbformat": 4,
 "nbformat_minor": 2,
 "cells": [
  {
   "cell_type": "code",
   "execution_count": 4,
   "metadata": {},
   "outputs": [],
   "source": [
    "import numpy as np\n",
    "from mpl_toolkits import mplot3d\n",
    "import open3d as o3d\n",
    "import glob\n",
    "import os\n",
    "import os.path\n",
    "import statistics as stats\n",
    "from operator import itemgetter"
   ]
  },
  {
   "source": [
    "# Linear Sliceing Method\n",
    "## Sort by Y"
   ],
   "cell_type": "markdown",
   "metadata": {}
  },
  {
   "cell_type": "code",
   "execution_count": 5,
   "metadata": {},
   "outputs": [
    {
     "output_type": "execute_result",
     "data": {
      "text/plain": [
       "numpy.ndarray"
      ]
     },
     "metadata": {},
     "execution_count": 5
    }
   ],
   "source": [
    "# Testing Ground\n",
    "plant = 'plant3_bb_sim.ply'\n",
    "# Slicing out a portion\n",
    "\n",
    "# Read .ply file\n",
    "pcd_whole = o3d.io.read_point_cloud(plant)\n",
    "ar_whole_field = np.asarray(pcd_whole.points)\n",
    "\n",
    "type(ar_whole_field)"
   ]
  },
  {
   "cell_type": "code",
   "execution_count": 10,
   "metadata": {
    "tags": []
   },
   "outputs": [],
   "source": [
    "linear_matrix = []\n",
    "\n",
    "intermed_list = []\n",
    "\n",
    "a = ar_whole_field[0][0]\n",
    "cnt = 1\n",
    "for i in ar_whole_field:\n",
    "    if abs(i[0] - a) < 10:\n",
    "        intermed_list.append(list(i))\n",
    "\n",
    "        a = i[0]\n",
    "\n",
    "        print(f'Building intermed list: {len(intermed_list)}')\n",
    "\n",
    "\n",
    "\n",
    "    \n",
    "    else:\n",
    "        cnt+=1\n",
    "        pcd_slice = o3d.geometry.PointCloud()\n",
    "        pcd_slice.points = o3d.utility.Vector3dVector(intermed_list)\n",
    "        # o3d.io.write_point_cloud(f'/home/travis/data/test_plys/{cnt}_slice.ply', pcd_slice)\n",
    "        linear_matrix.append(intermed_list)\n",
    "\n",
    "        intermed_list = []\n",
    "\n",
    "        a = i[0]\n",
    "\n",
    "        print('done')\n",
    "\n",
    "        "
   ]
  },
  {
   "cell_type": "code",
   "execution_count": 11,
   "metadata": {
    "tags": []
   },
   "outputs": [],
   "source": [
    "# print(intermed_list)"
   ]
  },
  {
   "source": [
    "# I need to take the above, make it now iterate over the whole file, each element in the list linear matrix will be a 'slice'"
   ],
   "cell_type": "markdown",
   "metadata": {}
  },
  {
   "cell_type": "code",
   "execution_count": 9,
   "metadata": {},
   "outputs": [
    {
     "output_type": "execute_result",
     "data": {
      "text/plain": [
       "'/home/travis/repos/radial-slicing'"
      ]
     },
     "metadata": {},
     "execution_count": 9
    }
   ],
   "source": []
  },
  {
   "source": [
    "# Now we work on clustering"
   ],
   "cell_type": "markdown",
   "metadata": {}
  },
  {
   "cell_type": "code",
   "execution_count": 6,
   "metadata": {},
   "outputs": [
    {
     "output_type": "execute_result",
     "data": {
      "text/plain": [
       "'/home/travis/repos/radial-slicing'"
      ]
     },
     "metadata": {},
     "execution_count": 6
    }
   ],
   "source": [
    "pwd"
   ]
  },
  {
   "cell_type": "code",
   "execution_count": 7,
   "metadata": {},
   "outputs": [],
   "source": [
    "ground_slice = r\"/home/travis/data/test_plys/ground_slice.ply\"\n",
    "\n",
    "middle_slice = r\"/home/travis/data/test_plys/middle_slice.ply\""
   ]
  },
  {
   "cell_type": "code",
   "execution_count": 9,
   "metadata": {},
   "outputs": [],
   "source": [
    "# Read .ply files\n",
    "pcd_ground_slice = o3d.io.read_point_cloud(ground_slice)\n",
    "ar_ground_slice = np.asarray(pcd_ground_slice.points)\n",
    "\n",
    "pcd_middle_slice = o3d.io.read_point_cloud(middle_slice)\n",
    "ar_middle_slice = np.asarray(pcd_middle_slice.points)"
   ]
  },
  {
   "cell_type": "code",
   "execution_count": null,
   "metadata": {},
   "outputs": [],
   "source": []
  },
  {
   "cell_type": "code",
   "execution_count": null,
   "metadata": {},
   "outputs": [],
   "source": []
  },
  {
   "cell_type": "code",
   "execution_count": null,
   "metadata": {},
   "outputs": [],
   "source": []
  },
  {
   "cell_type": "code",
   "execution_count": null,
   "metadata": {},
   "outputs": [],
   "source": []
  },
  {
   "cell_type": "code",
   "execution_count": 13,
   "metadata": {},
   "outputs": [],
   "source": [
    "for i in ar_whole_field[:50]:\n",
    "    print(i)"
   ]
  },
  {
   "cell_type": "code",
   "execution_count": 12,
   "metadata": {
    "tags": []
   },
   "outputs": [],
   "source": [
    "y_sort = sorted(ar_whole_field, key=itemgetter(1))\n",
    "\n",
    "\n",
    "for i in y_sort[:300]:\n",
    "    print(i)"
   ]
  },
  {
   "cell_type": "code",
   "execution_count": null,
   "metadata": {},
   "outputs": [],
   "source": [
    "# "
   ]
  }
 ]
}