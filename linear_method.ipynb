{
 "metadata": {
  "language_info": {
   "codemirror_mode": {
    "name": "ipython",
    "version": 3
   },
   "file_extension": ".py",
   "mimetype": "text/x-python",
   "name": "python",
   "nbconvert_exporter": "python",
   "pygments_lexer": "ipython3",
   "version": "3.6.5-final"
  },
  "orig_nbformat": 2,
  "kernelspec": {
   "name": "python3",
   "display_name": "Python 3.6.5 64-bit ('base': conda)",
   "metadata": {
    "interpreter": {
     "hash": "cb0f9a5524fd23f309a0dbaa4c1041b01195e75e5cd9b9758c4252bfec74e176"
    }
   }
  }
 },
 "nbformat": 4,
 "nbformat_minor": 2,
 "cells": [
  {
   "cell_type": "code",
   "execution_count": null,
   "metadata": {},
   "outputs": [],
   "source": [
    "import numpy as np\n",
    "from mpl_toolkits import mplot3d\n",
    "import open3d as o3d\n",
    "import glob\n",
    "import os\n",
    "import os.path\n",
    "import statistics as stats\n",
    "from operator import itemgetter\n",
    "from sklearn.cluster import SpectralClustering, KMeans, AffinityPropagation\n",
    "import matplotlib.pyplot as plt\n",
    "from sklearn.datasets import make_blobs"
   ]
  },
  {
   "source": [
    "# Linear Sliceing Method\n",
    "## Sort by Y"
   ],
   "cell_type": "markdown",
   "metadata": {}
  },
  {
   "cell_type": "code",
   "execution_count": null,
   "metadata": {},
   "outputs": [],
   "source": [
    "# Testing Ground\n",
    "plant = 'plant3_bb_sim.ply'\n",
    "# Slicing out a portion\n",
    "\n",
    "# Read .ply file\n",
    "pcd_whole = o3d.io.read_point_cloud(plant)\n",
    "ar_whole_field = np.asarray(pcd_whole.points)\n",
    "\n",
    "type(ar_whole_field)"
   ]
  },
  {
   "cell_type": "code",
   "execution_count": null,
   "metadata": {
    "tags": []
   },
   "outputs": [],
   "source": [
    "# Finding the middle of the z axis for plant3_bb_sim\n",
    "z_axis = []\n",
    "\n",
    "for i in ar_whole_field:\n",
    "    z_axis.append(i[2])\n"
   ]
  },
  {
   "cell_type": "code",
   "execution_count": null,
   "metadata": {},
   "outputs": [],
   "source": [
    "median_z = stats.median(z_axis)\n",
    "\n",
    "print(median_z)"
   ]
  },
  {
   "cell_type": "code",
   "execution_count": null,
   "metadata": {
    "tags": []
   },
   "outputs": [],
   "source": [
    "linear_matrix = []\n",
    "\n",
    "intermed_list = []\n",
    "\n",
    "a = ar_whole_field[0][0]\n",
    "cnt = 1\n",
    "for i in ar_whole_field:\n",
    "    if abs(i[0] - a) < 10:\n",
    "        intermed_list.append(list(i))\n",
    "\n",
    "        a = i[0]\n",
    "\n",
    "        print(f'Building intermed list: {len(intermed_list)}')\n",
    "\n",
    "\n",
    "\n",
    "    \n",
    "    else:\n",
    "        cnt+=1\n",
    "        pcd_slice = o3d.geometry.PointCloud()\n",
    "        pcd_slice.points = o3d.utility.Vector3dVector(intermed_list)\n",
    "        # o3d.io.write_point_cloud(f'/home/travis_s/data/test_plys/{cnt}_slice.ply', pcd_slice)\n",
    "        linear_matrix.append(intermed_list)\n",
    "\n",
    "        intermed_list = []\n",
    "\n",
    "        a = i[0]\n",
    "\n",
    "        print('done')\n",
    "\n",
    "        "
   ]
  },
  {
   "cell_type": "code",
   "execution_count": null,
   "metadata": {
    "tags": []
   },
   "outputs": [],
   "source": [
    "# print(intermed_list)"
   ]
  },
  {
   "source": [
    "# I need to take the above, make it now iterate over the whole file, each element in the list linear matrix will be a 'slice'"
   ],
   "cell_type": "markdown",
   "metadata": {}
  },
  {
   "cell_type": "code",
   "execution_count": null,
   "metadata": {},
   "outputs": [],
   "source": [
    "pwd"
   ]
  },
  {
   "source": [
    "# Now we work on clustering"
   ],
   "cell_type": "markdown",
   "metadata": {}
  },
  {
   "cell_type": "code",
   "execution_count": null,
   "metadata": {},
   "outputs": [],
   "source": [
    "pwd"
   ]
  },
  {
   "cell_type": "code",
   "execution_count": null,
   "metadata": {},
   "outputs": [],
   "source": [
    "ground_slice = r\"/home/travis/data/test_plys/20_slice.ply\"\n",
    "\n",
    "middle_slice = r\"/home/travis/data/test_plys/116_slice.ply\""
   ]
  },
  {
   "cell_type": "code",
   "execution_count": null,
   "metadata": {},
   "outputs": [],
   "source": [
    "# Read .ply files\n",
    "pcd_ground_slice = o3d.io.read_point_cloud(ground_slice)\n",
    "ar_ground_slice = np.asarray(pcd_ground_slice.points)\n",
    "\n",
    "pcd_middle_slice = o3d.io.read_point_cloud(middle_slice)\n",
    "ar_middle_slice = np.asarray(pcd_middle_slice.points)"
   ]
  },
  {
   "source": [
    "# Dropping y to flatten"
   ],
   "cell_type": "markdown",
   "metadata": {}
  },
  {
   "cell_type": "code",
   "execution_count": null,
   "metadata": {},
   "outputs": [],
   "source": [
    "middle_slice = r\"/home/travis_s/data/test_plys/120_slice.ply\"\n",
    "pcd_middle_slice = o3d.io.read_point_cloud(middle_slice)\n",
    "ar_middle_slice = np.asarray(pcd_middle_slice.points)\n",
    "\n",
    "print(len(ar_middle_slice))\n",
    "\n",
    "flat_middle = []\n",
    "\n",
    "for i in ar_middle_slice:\n",
    "    flat_middle.append(list(i))\n",
    "print(len(flat_middle))\n",
    "\n",
    "for j in flat_middle: \n",
    "    del j[1] \n",
    "\n"
   ]
  },
  {
   "cell_type": "code",
   "execution_count": null,
   "metadata": {},
   "outputs": [],
   "source": [
    "km = KMeans(\n",
    "    n_clusters=5, init='random',\n",
    "    n_init=10, max_iter=300, \n",
    "    tol=1e-04, random_state=0\n",
    ")\n",
    "\n",
    "X = np.array(flat_middle)\n",
    "y_km = km.fit_predict(X)"
   ]
  },
  {
   "cell_type": "code",
   "execution_count": null,
   "metadata": {
    "tags": [
     "outputPrepend"
    ]
   },
   "outputs": [],
   "source": [
    "l0 = []\n",
    "l1 = []\n",
    "l2 = []\n",
    "l3 = []\n",
    "l4 = []\n",
    "for index, row in enumerate(ar_middle_slice):\n",
    "    print(y_km[index], row)\n",
    "\n",
    "    if y_km[index] == 0:\n",
    "        l0.append(row)\n",
    "    if y_km[index] == 1:\n",
    "        l1.append(row)\n",
    "    if y_km[index] == 2:\n",
    "        l2.append(row)\n",
    "    if y_km[index] == 3:\n",
    "        l3.append(row)\n",
    "    if y_km[index] == 4:\n",
    "        l4.append(row)\n",
    "    "
   ]
  },
  {
   "cell_type": "code",
   "execution_count": null,
   "metadata": {},
   "outputs": [],
   "source": [
    "clusters = [l0,l1,l2,l3,l4]\n",
    "\n",
    "plant_points = []\n",
    "\n",
    "for c in clusters:\n",
    "    for i in c:\n",
    "        if i[2] > median_z:\n",
    "            plant_points.extend(c)\n",
    "            break"
   ]
  },
  {
   "cell_type": "code",
   "execution_count": null,
   "metadata": {},
   "outputs": [],
   "source": [
    "print(plant_points[1])"
   ]
  },
  {
   "cell_type": "code",
   "execution_count": null,
   "metadata": {},
   "outputs": [],
   "source": [
    "pcd_slice = o3d.geometry.PointCloud()\n",
    "pcd_slice.points = o3d.utility.Vector3dVector(plant_points)\n",
    "o3d.io.write_point_cloud(f'/home/travis_s/data/test_plys/plant_slice.ply', pcd_slice)"
   ]
  },
  {
   "cell_type": "code",
   "execution_count": null,
   "metadata": {},
   "outputs": [],
   "source": []
  },
  {
   "cell_type": "code",
   "execution_count": null,
   "metadata": {},
   "outputs": [],
   "source": []
  },
  {
   "cell_type": "code",
   "execution_count": null,
   "metadata": {},
   "outputs": [],
   "source": []
  },
  {
   "cell_type": "code",
   "execution_count": null,
   "metadata": {},
   "outputs": [],
   "source": [
    "x = [x for x, y in flat_middle]\n",
    "y = [y for x, y in flat_middle]\n",
    "\n",
    "plt.scatter(x, y)\n",
    "plt.show()"
   ]
  },
  {
   "cell_type": "code",
   "execution_count": null,
   "metadata": {},
   "outputs": [],
   "source": []
  },
  {
   "cell_type": "code",
   "execution_count": null,
   "metadata": {},
   "outputs": [],
   "source": []
  },
  {
   "cell_type": "code",
   "execution_count": null,
   "metadata": {},
   "outputs": [],
   "source": [
    "km = KMeans(\n",
    "    n_clusters=5, init='random',\n",
    "    n_init=10, max_iter=300, \n",
    "    tol=1e-04, random_state=0\n",
    ")\n",
    "\n",
    "\n",
    "\n"
   ]
  },
  {
   "cell_type": "code",
   "execution_count": null,
   "metadata": {},
   "outputs": [],
   "source": [
    "X = np.array(flat_middle)\n",
    "y_km = km.fit_predict(X)\n",
    "# y_km = sc.fit_predict(X)\n"
   ]
  },
  {
   "cell_type": "code",
   "execution_count": null,
   "metadata": {},
   "outputs": [],
   "source": [
    "\n",
    "# plot the 3 clusters\n",
    "plt.scatter(\n",
    "    X[y_km == 0, 0], X[y_km == 0, 1],\n",
    "    s=50, c='lightgreen',\n",
    "    marker='s', edgecolor='black',\n",
    "    label='cluster 1'\n",
    ")\n",
    "\n",
    "plt.scatter(\n",
    "    X[y_km == 1, 0], X[y_km == 1, 1],\n",
    "    s=50, c='orange',\n",
    "    marker='o', edgecolor='black',\n",
    "    label='cluster 2'\n",
    ")\n",
    "\n",
    "plt.scatter(\n",
    "    X[y_km == 2, 0], X[y_km == 2, 1],\n",
    "    s=50, c='lightblue',\n",
    "    marker='v', edgecolor='black',\n",
    "    label='cluster 3'\n",
    ")\n",
    "\n",
    "plt.scatter(\n",
    "    X[y_km == 3, 0], X[y_km == 3, 1],\n",
    "    s=50, c='black',\n",
    "    marker='s', edgecolor='black',\n",
    "    label='cluster 4'\n",
    ")\n",
    "\n",
    "plt.scatter(\n",
    "    X[y_km == 4, 0], X[y_km == 4, 1],\n",
    "    s=50, c='red',\n",
    "    marker='s', edgecolor='black',\n",
    "    label='cluster 5'\n",
    ")\n",
    "\n",
    "# plot the centroids\n",
    "plt.scatter(\n",
    "    km.cluster_centers_[:, 0], km.cluster_centers_[:, 1],\n",
    "    s=250, marker='*',\n",
    "    c='red', edgecolor='black',\n",
    "    label='centroids'\n",
    "\n",
    "\n",
    ")\n",
    "plt.legend(scatterpoints=1)\n",
    "plt.grid()\n",
    "plt.show()"
   ]
  },
  {
   "cell_type": "code",
   "execution_count": null,
   "metadata": {},
   "outputs": [],
   "source": [
    "print(ar_middle_slice[1], flat_middle[1], )"
   ]
  },
  {
   "cell_type": "code",
   "execution_count": null,
   "metadata": {},
   "outputs": [],
   "source": [
    "median_z"
   ]
  },
  {
   "cell_type": "code",
   "execution_count": null,
   "metadata": {},
   "outputs": [],
   "source": []
  }
 ]
}